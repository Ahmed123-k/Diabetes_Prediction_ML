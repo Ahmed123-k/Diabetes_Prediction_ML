{
 "cells": [
  {
   "cell_type": "code",
   "execution_count": null,
   "id": "86568fe5-878c-4876-ad45-f5e40515e308",
   "metadata": {},
   "outputs": [],
   "source": [
    "import pandas as pd \n",
    "import numpy as np\n",
    "import seaborn as sb\n",
    "import matplotlib.pyplot as plt\n",
    "import warnings\n",
    "warnings.filterwarnings('ignore')"
   ]
  },
  {
   "cell_type": "code",
   "execution_count": null,
   "id": "e2ec960d-22ba-44e9-80eb-f2adcb2eef45",
   "metadata": {},
   "outputs": [],
   "source": [
    "df=pd.read_csv('diabetes_prediction_dataset.csv')\n",
    "df.head(2)"
   ]
  },
  {
   "cell_type": "code",
   "execution_count": null,
   "id": "2a4591cf-eb56-453b-b27a-9b9d59bec5fd",
   "metadata": {},
   "outputs": [],
   "source": [
    "#To check the datatypes of all columns\n",
    "df.dtypes"
   ]
  },
  {
   "cell_type": "code",
   "execution_count": null,
   "id": "29aa20ed-3eb8-4986-b530-9e25a368578f",
   "metadata": {},
   "outputs": [],
   "source": [
    "#how many samples of 0's and 1's in output column diabetes\n",
    "f=df['diabetes'].value_counts()\n",
    "print(f)"
   ]
  },
  {
   "cell_type": "code",
   "execution_count": null,
   "id": "079a5102-20bd-4bc8-b21d-d5821048b5a7",
   "metadata": {},
   "outputs": [],
   "source": [
    "#visualisation \n",
    "sb.countplot(data=df,x='diabetes')\n",
    "plt.yticks(f)\n",
    "plt.show()"
   ]
  },
  {
   "cell_type": "code",
   "execution_count": null,
   "id": "db0cf18e-5dec-4062-a045-ae2550c810cc",
   "metadata": {},
   "outputs": [],
   "source": [
    "#how many samples of 0's and 1's in output column heart_disease\n",
    "h=df['heart_disease'].value_counts()\n",
    "print(h)\n",
    "#visualisation \n",
    "sb.countplot(data=df,x='heart_disease')\n",
    "plt.yticks(h)\n",
    "plt.show()"
   ]
  },
  {
   "cell_type": "code",
   "execution_count": null,
   "id": "bff7f326-2cd5-403d-b59b-ef20a8ba0643",
   "metadata": {},
   "outputs": [],
   "source": [
    "#how many samples of 0's and 1's in output column heart_disease\n",
    "h=df['hypertension'].value_counts()\n",
    "print(h)\n",
    "#visualisation \n",
    "sb.countplot(data=df,x='hypertension')\n",
    "plt.yticks(h)\n",
    "plt.show()"
   ]
  },
  {
   "cell_type": "code",
   "execution_count": null,
   "id": "c3bee664-c7f8-4dd5-8f49-e934d216138b",
   "metadata": {},
   "outputs": [],
   "source": [
    "#Apply label encoder on Smoking history \n",
    "from sklearn.preprocessing import LabelEncoder\n",
    "le=LabelEncoder()\n",
    "df['smoking_history']=le.fit_transform(df['smoking_history'])\n",
    "df.dtypes"
   ]
  },
  {
   "cell_type": "code",
   "execution_count": null,
   "id": "c70fbfae-4466-4e85-abce-dc936f61bf7f",
   "metadata": {},
   "outputs": [],
   "source": [
    "df['smoking_history'].value_counts()"
   ]
  },
  {
   "cell_type": "code",
   "execution_count": null,
   "id": "242790cd-556f-45a7-b043-37f9a3f4ce1a",
   "metadata": {},
   "outputs": [],
   "source": [
    "#how many samples of 0's and 1's in output column heart_disease\n",
    "s=df['smoking_history'].value_counts()\n",
    "print(s)\n",
    "#visualisation \n",
    "sb.countplot(data=df,x='smoking_history')\n",
    "plt.yticks(s)\n",
    "plt.show()"
   ]
  },
  {
   "cell_type": "code",
   "execution_count": null,
   "id": "c6f5fc82-9c0c-434f-b352-5d8767083aee",
   "metadata": {},
   "outputs": [],
   "source": [
    "#To find the null values if there any \n",
    "df.isnull().sum()"
   ]
  },
  {
   "cell_type": "code",
   "execution_count": null,
   "id": "e470c25c-4fbf-4cb2-b47f-52d79a4bbb80",
   "metadata": {},
   "outputs": [],
   "source": [
    "#visualising null values\n",
    "sb.heatmap(df.isnull())\n",
    "plt.show()"
   ]
  },
  {
   "cell_type": "code",
   "execution_count": null,
   "id": "440834c1-8c91-4f98-94dd-b1eabcc4ca6f",
   "metadata": {},
   "outputs": [],
   "source": [
    "#selecting input and output for given dataset\n",
    "X=df.drop(['gender','diabetes'],axis=1)   #input selected\n",
    "Y=df['diabetes']   #output selected"
   ]
  },
  {
   "cell_type": "code",
   "execution_count": null,
   "id": "b5341bcd-aba4-4acb-a94e-d6cbd38414ed",
   "metadata": {},
   "outputs": [],
   "source": [
    "X.head()"
   ]
  },
  {
   "cell_type": "code",
   "execution_count": null,
   "id": "65dbfd1d-e1c5-4f99-bec6-978ff98b0dad",
   "metadata": {},
   "outputs": [],
   "source": [
    "Y.head()"
   ]
  },
  {
   "cell_type": "code",
   "execution_count": null,
   "id": "23bf23b0-c9e3-4702-97ff-8dbbb04a2dfe",
   "metadata": {},
   "outputs": [],
   "source": [
    "Y.value_counts()"
   ]
  },
  {
   "cell_type": "code",
   "execution_count": null,
   "id": "2eba4418-b0a9-4335-901f-948523295761",
   "metadata": {},
   "outputs": [],
   "source": [
    "#train test split\n",
    "from sklearn.model_selection import train_test_split\n",
    "X_train, X_test, Y_train, Y_test=train_test_split(X,Y,test_size=0.3,random_state=1)"
   ]
  },
  {
   "cell_type": "code",
   "execution_count": null,
   "id": "4f353933-532d-4ec2-a9fe-5f85c658813f",
   "metadata": {},
   "outputs": [],
   "source": [
    "X_train.shape,X_test.shape,Y_train.shape,Y_test.shape"
   ]
  },
  {
   "cell_type": "code",
   "execution_count": null,
   "id": "39c53e21-c64e-4a99-b116-e19fdabb696e",
   "metadata": {},
   "outputs": [],
   "source": [
    "#Aplly StandardScaler on X_train and X_test\n",
    "from sklearn.preprocessing import StandardScaler\n",
    "#create object of StandardScaler class\n",
    "ss=StandardScaler()\n",
    "X_train=ss.fit_transform(X_train)\n",
    "X_test=ss.transform(X_test)"
   ]
  },
  {
   "cell_type": "code",
   "execution_count": null,
   "id": "eaec0374-0ef9-4197-ae39-c1c3c5728b3a",
   "metadata": {},
   "outputs": [],
   "source": [
    "X_train"
   ]
  },
  {
   "cell_type": "code",
   "execution_count": null,
   "id": "f7a32ad5-54f6-4fa1-922b-873c504dfb05",
   "metadata": {},
   "outputs": [],
   "source": [
    "#calling confusion_matrix\n",
    "from sklearn.metrics import confusion_matrix\n",
    "#calling classification report\n",
    "from sklearn.metrics import classification_report"
   ]
  },
  {
   "cell_type": "code",
   "execution_count": null,
   "id": "6ba245ed-d3ab-477d-8c3a-9f930bec7df3",
   "metadata": {},
   "outputs": [],
   "source": [
    "#Given is classification Dataset \n",
    "#Some method used in all classification Algorithm\n",
    "#1. fit()mean train the model with 70% input and output\n",
    "#2. predict() means test the model with 30% data of input and output and recieve the predicted output\n",
    "#3. #print classification report and confusion matrix\n",
    "\n",
    "#create a userdefine function and passsing the object of classification Algorithm\n",
    "def create_model(model):        #userdefine function name and model name of Classification Algorithm \n",
    "    model.fit(X_train,Y_train)\n",
    "    Y_pred=model.predict(X_test)\n",
    "    #print confusion matrix\n",
    "    cm=confusion_matrix(Y_test,Y_pred)\n",
    "    print(cm)\n",
    "    #print classification report \n",
    "    print(classification_report(Y_test,Y_pred))\n",
    "    return model"
   ]
  },
  {
   "cell_type": "code",
   "execution_count": null,
   "id": "143ab99b-6681-4675-a469-81311a32b935",
   "metadata": {},
   "outputs": [],
   "source": [
    "#perform model with LogisticRegression\n",
    "from sklearn.linear_model import LogisticRegression"
   ]
  },
  {
   "cell_type": "code",
   "execution_count": null,
   "id": "8b30c21a-8aa2-49ea-9369-b8df586d65f2",
   "metadata": {},
   "outputs": [],
   "source": [
    "#create object of LogisticRegression \n",
    "lr=LogisticRegression()"
   ]
  },
  {
   "cell_type": "code",
   "execution_count": null,
   "id": "f242847f-7322-402c-8591-36a6a1909621",
   "metadata": {},
   "outputs": [],
   "source": [
    "#train test the model \n",
    "lr=create_model(lr)"
   ]
  },
  {
   "cell_type": "code",
   "execution_count": null,
   "id": "8f63702b-a724-476c-bc5b-a16b507be6cd",
   "metadata": {},
   "outputs": [],
   "source": [
    "#Here recall=0.63 means 63%, we can try for much more better score"
   ]
  },
  {
   "cell_type": "code",
   "execution_count": null,
   "id": "b82d8dc3-36f7-42f2-b98a-1194001b0c04",
   "metadata": {},
   "outputs": [],
   "source": [
    "#balance Target variable diabetes \n",
    "#use inbuilt class RandomOverSampler class -->define in outer class over_sampling -->inbuilt package imblearn of ML\n",
    "#first time install on your sysytem \n",
    "#!pip install imblearn"
   ]
  },
  {
   "cell_type": "code",
   "execution_count": null,
   "id": "f34277de-0a0d-47db-80da-7003225db4c1",
   "metadata": {},
   "outputs": [],
   "source": [
    "#call RandomOverSampler class\n",
    "from imblearn.over_sampling import RandomOverSampler"
   ]
  },
  {
   "cell_type": "code",
   "execution_count": null,
   "id": "1f106064-8bcb-4111-9cd0-38a34b4a754f",
   "metadata": {},
   "outputs": [],
   "source": [
    "#TRAIN TEST SPLIT\n",
    "X_train,X_test,Y_train,Y_test=train_test_split(X,Y,test_size=0.3,random_state=1)"
   ]
  },
  {
   "cell_type": "code",
   "execution_count": null,
   "id": "4c8cdc72-4cf7-4b0b-acb2-537974d8c40b",
   "metadata": {},
   "outputs": [],
   "source": [
    "Y_train.value_counts()"
   ]
  },
  {
   "cell_type": "code",
   "execution_count": null,
   "id": "7ce006da-c622-4d7e-92d7-e2e6a2318185",
   "metadata": {},
   "outputs": [],
   "source": [
    "Y_test.value_counts()"
   ]
  },
  {
   "cell_type": "code",
   "execution_count": null,
   "id": "ce71360c-2ad7-4d33-b8f2-b57e5c35160c",
   "metadata": {},
   "outputs": [],
   "source": [
    "##Apply StandardScaler on X_train and X_test\n",
    "#create object of StandardScaler class\n",
    "ss=StandardScaler()\n",
    "X_train=ss.fit_transform(X_train)\n",
    "X_test=ss.transform(X_test)"
   ]
  },
  {
   "cell_type": "code",
   "execution_count": null,
   "id": "bcab7a1d-4a48-4cc0-8486-936c9be87baf",
   "metadata": {},
   "outputs": [],
   "source": [
    "#create the object of RandomOverSampler class\n",
    "ros=RandomOverSampler(random_state=1)"
   ]
  },
  {
   "cell_type": "code",
   "execution_count": null,
   "id": "188718c6-bbbb-46a6-b31d-d3b62c9c2a70",
   "metadata": {},
   "outputs": [],
   "source": [
    "#Apply RandomOverSampler on training input and training output X_train,Y_train ,use fit_resample() method of RandomOverSampler class\n",
    "X_train_ros,Y_train_ros=ros.fit_resample(X_train,Y_train)"
   ]
  },
  {
   "cell_type": "code",
   "execution_count": null,
   "id": "9445c6bb-9d7e-4117-b348-eae564c6cced",
   "metadata": {},
   "outputs": [],
   "source": [
    "Y_train_ros.value_counts()"
   ]
  },
  {
   "cell_type": "code",
   "execution_count": null,
   "id": "66210ef8-f709-4ceb-b4da-9ce9cb0b35ef",
   "metadata": {},
   "outputs": [],
   "source": [
    "#Apply RandomOverSampler on test input and test output X_test,Y_test ,use fit_resample() method of RandomOverSampler class\n",
    "X_test_ros,Y_test_ros=ros.fit_resample(X_test,Y_test)"
   ]
  },
  {
   "cell_type": "code",
   "execution_count": null,
   "id": "6f028e4a-f13e-436b-b09b-862aa07b7e32",
   "metadata": {},
   "outputs": [],
   "source": [
    "Y_test_ros.value_counts()"
   ]
  },
  {
   "cell_type": "code",
   "execution_count": null,
   "id": "dce72290-f961-4566-b1c4-a7acea3ba6ed",
   "metadata": {},
   "outputs": [],
   "source": [
    "#Perform the model after apply sampling technique\n",
    "#create a userdefine function and passsing the object of classification Algorithm\n",
    "def create_model(model):        #userdefine function name and model name of Classification Algorithm \n",
    "    model.fit(X_train_ros,Y_train_ros)\n",
    "    Y_pred=model.predict(X_test_ros)\n",
    "    #print confusion matrix\n",
    "    cm=confusion_matrix(Y_test_ros,Y_pred)\n",
    "    print(cm)\n",
    "    #print classification report \n",
    "    print(classification_report(Y_test_ros,Y_pred))\n",
    "    return model"
   ]
  },
  {
   "cell_type": "code",
   "execution_count": null,
   "id": "bd664087-c1ad-4299-ab02-2215d3233066",
   "metadata": {},
   "outputs": [],
   "source": [
    "#create object of LogisticRegression \n",
    "lr=LogisticRegression()"
   ]
  },
  {
   "cell_type": "code",
   "execution_count": null,
   "id": "c72121f4-a1aa-4fdf-be6d-9cd756fb2bdf",
   "metadata": {},
   "outputs": [],
   "source": [
    "#call function and pass the object of Logistic Regression\n",
    "lr=create_model(lr)"
   ]
  },
  {
   "cell_type": "code",
   "execution_count": null,
   "id": "c04e6111-b593-49b2-bed5-bece957c01e8",
   "metadata": {},
   "outputs": [],
   "source": [
    "#limitation of logistic regression, it is not selected automatically\n",
    "#Now we use second classification Algorithm Decision tree classifier\n",
    "\n",
    "#calling DecisionTreeClassifier\n",
    "from sklearn.tree import DecisionTreeClassifier"
   ]
  },
  {
   "cell_type": "code",
   "execution_count": null,
   "id": "d1b481cd-0b4b-434a-8c27-17a14019d967",
   "metadata": {},
   "outputs": [],
   "source": [
    "#create the object of DecisionTreeClassifier class\n",
    "dt=DecisionTreeClassifier()"
   ]
  },
  {
   "cell_type": "code",
   "execution_count": null,
   "id": "3729b54a-c7d5-413f-8d5d-bf4aede9ea83",
   "metadata": {},
   "outputs": [],
   "source": [
    "#train test the model \n",
    "dt=create_model(dt)"
   ]
  },
  {
   "cell_type": "code",
   "execution_count": null,
   "id": "ba795a7f-893e-447c-97bf-d4dba92ceeb4",
   "metadata": {},
   "outputs": [],
   "source": [
    "#here recall score = 0.74 means 74% it is good but can make it much better "
   ]
  },
  {
   "cell_type": "code",
   "execution_count": null,
   "id": "079b4dd3-f2ee-460b-a2af-1d7419b49189",
   "metadata": {},
   "outputs": [],
   "source": [
    "IG=dt.feature_importances_\n",
    "dict={'Input columns':X.columns,'Information Gain':IG}\n",
    "df1=pd.DataFrame(dict)\n",
    "#sort in descending\n",
    "df1.sort_values('Information Gain',ascending=False)"
   ]
  },
  {
   "cell_type": "code",
   "execution_count": null,
   "id": "06537b14-e36b-4e1d-b6cc-c2c671598f81",
   "metadata": {},
   "outputs": [],
   "source": [
    "#recall score changes from 63% to 74%\n",
    "#now try decision Tree classifier with entropy\n",
    "dt1=DecisionTreeClassifier(criterion='entropy',random_state=1)"
   ]
  },
  {
   "cell_type": "code",
   "execution_count": null,
   "id": "47647f60-616e-4bda-a715-c7945452cb60",
   "metadata": {},
   "outputs": [],
   "source": [
    "#call the function \n",
    "dt1=create_model(dt1)"
   ]
  },
  {
   "cell_type": "code",
   "execution_count": null,
   "id": "fe9062f8-c45c-4617-9957-4627bdbe2d98",
   "metadata": {},
   "outputs": [],
   "source": [
    "IG=dt1.feature_importances_\n",
    "dict={'Input columns':X.columns,'Information Gain':IG}\n",
    "df2=pd.DataFrame(dict)\n",
    "#sort in descending\n",
    "df2.sort_values('Information Gain',ascending=False)"
   ]
  },
  {
   "cell_type": "code",
   "execution_count": null,
   "id": "9fdfedbb-7ae7-4ad1-baa9-00464b6fbefa",
   "metadata": {},
   "outputs": [],
   "source": [
    "#limitation of DecisionTreeClassifier : model is overfit\n",
    "# to reduce overfitting the model  use 2 pruning technique\n",
    "#there are 2 types of pruning technique\n",
    "#1. max_depth\n",
    "#2. min_samples_leaf"
   ]
  },
  {
   "cell_type": "code",
   "execution_count": null,
   "id": "d445019e-87c8-422f-a55c-8d2cbc17a0a5",
   "metadata": {
    "scrolled": true
   },
   "outputs": [],
   "source": [
    "'''for i in range(1,9):\n",
    "    #create decisionTreeclassifier class object\n",
    "    dt2=DecisionTreeClassifier(max_depth=i,random_state=1)\n",
    "    print('max_depth',i)\n",
    "    #call the function\n",
    "    dt2=create_model(dt2)'''"
   ]
  },
  {
   "cell_type": "code",
   "execution_count": null,
   "id": "72a7299a-b49d-44b4-b51f-e46d36a08523",
   "metadata": {},
   "outputs": [],
   "source": [
    "dt2=DecisionTreeClassifier(max_depth=9,random_state=1)\n",
    "#call the function\n",
    "dt2=create_model(dt2)"
   ]
  },
  {
   "cell_type": "code",
   "execution_count": null,
   "id": "5c628d04-a7f8-45e1-a53c-62b85869284b",
   "metadata": {},
   "outputs": [],
   "source": [
    "IG=dt2.feature_importances_\n",
    "dict={'Input columns':X.columns,'Information Gain':IG}\n",
    "df2=pd.DataFrame(dict)\n",
    "#sort in descending\n",
    "df2.sort_values('Information Gain',ascending=False)"
   ]
  },
  {
   "cell_type": "code",
   "execution_count": null,
   "id": "1a830823-3c78-4fa3-aaab-b92f8c2f8cf2",
   "metadata": {
    "scrolled": true
   },
   "outputs": [],
   "source": [
    "#apply second pruning technique min_sample_leaf \n",
    "#value of min_sample_leaf parameter >=50 and_samples_leaf parameter <=100\n",
    "'''for i in range(50,101):\n",
    "    #create object\n",
    "    dt2=DecisionTreeClassifier(min_samples_leaf=i,random_state=1)\n",
    "    print('min_sample',i)\n",
    "    #call function\n",
    "    dt2=create_model(dt2)'''"
   ]
  },
  {
   "cell_type": "code",
   "execution_count": null,
   "id": "7f6d9f92-f87e-465d-b03c-2a863f52d4c7",
   "metadata": {},
   "outputs": [],
   "source": [
    "dt2=DecisionTreeClassifier(min_samples_leaf=56,random_state=1)\n",
    "#call function\n",
    "dt2=create_model(dt2)"
   ]
  },
  {
   "cell_type": "code",
   "execution_count": null,
   "id": "da4fc8d5-bde7-4c6c-ae69-8975bbe3d07d",
   "metadata": {},
   "outputs": [],
   "source": [
    "#clearly understand \n",
    "#the recall score of min_sample_leaf=50   gini is good as campared to max_depth=5 : gini"
   ]
  },
  {
   "cell_type": "code",
   "execution_count": null,
   "id": "82fdc6ba-489a-4ad4-8095-8ec872098166",
   "metadata": {},
   "outputs": [],
   "source": [
    "#Ensembling Technique\n",
    "#Bootstraping Ensemble Technique\n",
    "#use Random Forest Classifier : work bagging technique\n",
    "from sklearn.ensemble import RandomForestClassifier"
   ]
  },
  {
   "cell_type": "code",
   "execution_count": null,
   "id": "3299199c-9fa4-4ecb-9cd1-385a37ce45d4",
   "metadata": {
    "scrolled": true
   },
   "outputs": [],
   "source": [
    "'''for i in range(10,101):\n",
    "    #create object of RandomForestClassifier class\n",
    "    rfc=RandomForestClassifier(random_state=1,n_estimators=i)\n",
    "    print('n_estimators',i)\n",
    "    #call function \n",
    "    rfc=create_model(rfc)'''"
   ]
  },
  {
   "cell_type": "code",
   "execution_count": null,
   "id": "ea92fd86-ba4b-45c9-bff0-be8bd5e35e7c",
   "metadata": {},
   "outputs": [],
   "source": [
    "rfc=RandomForestClassifier(random_state=1,n_estimators=11)\n",
    "#call function \n",
    "rfc=create_model(rfc)"
   ]
  },
  {
   "cell_type": "code",
   "execution_count": null,
   "id": "48b7ff56-2d5e-4819-a0b4-bbddda431e61",
   "metadata": {},
   "outputs": [],
   "source": [
    "#in RandomForestClassifier : recall : 71% and Accuracy = 97%"
   ]
  },
  {
   "cell_type": "code",
   "execution_count": null,
   "id": "54a41f81-ed84-4d9b-bcb4-f74b4d4b943f",
   "metadata": {},
   "outputs": [],
   "source": [
    "#Next Ensembling Technique :AdaBoostClassifier\n",
    "from sklearn.ensemble import AdaBoostClassifier"
   ]
  },
  {
   "cell_type": "code",
   "execution_count": null,
   "id": "4a9200a2-76cb-4846-b134-09e472b933f4",
   "metadata": {},
   "outputs": [],
   "source": [
    "X.shape    #here total no of columns are 7\n",
    " #maximum decision stumps =7  and nim decision stump=1"
   ]
  },
  {
   "cell_type": "code",
   "execution_count": null,
   "id": "0ae4fb6f-32b8-43d2-9f22-363e27a33487",
   "metadata": {
    "scrolled": true
   },
   "outputs": [],
   "source": [
    "'''for i in range(1,8):\n",
    "    #create object of AdaBoostClassifier class\n",
    "    abc=AdaBoostClassifier(random_state=1,n_estimators=i,)\n",
    "    print('n_estimators',i)\n",
    "    #call function \n",
    "    abc=create_model(abc)'''"
   ]
  },
  {
   "cell_type": "code",
   "execution_count": null,
   "id": "2ee55609-9b60-42b8-8f98-786b861e4250",
   "metadata": {},
   "outputs": [],
   "source": [
    "abc=AdaBoostClassifier(random_state=1,n_estimators=3,)\n",
    "#call function\n",
    "abc=create_model(abc)"
   ]
  },
  {
   "cell_type": "code",
   "execution_count": null,
   "id": "ccc464fe-8fc7-4de3-b63e-0e16c885b891",
   "metadata": {},
   "outputs": [],
   "source": [
    "IG=abc.feature_importances_\n",
    "dict={'input column':X.columns,'Information Gain':IG}\n",
    "df1=pd.DataFrame(dict)\n",
    "#sort in decending\n",
    "df1.sort_values('Information Gain',ascending=False)"
   ]
  },
  {
   "cell_type": "code",
   "execution_count": null,
   "id": "eff79cef-3d67-4156-839b-351ded5deee7",
   "metadata": {},
   "outputs": [],
   "source": [
    "#now GradientBoostingClassifier\n",
    "from sklearn.ensemble import GradientBoostingClassifier\n",
    "#min decision tree =10, max=100"
   ]
  },
  {
   "cell_type": "code",
   "execution_count": null,
   "id": "8144e4be-a131-4381-b998-0ee032fdfa3d",
   "metadata": {},
   "outputs": [],
   "source": [
    "'''for i in range(10,101):\n",
    "    #create object of GradientBoostingClassifier\n",
    "    gbc=GradientBoostingClassifier(random_state=1,n_estimators=i)\n",
    "    print('n_estimators',i)\n",
    "    #call function \n",
    "    gbc=create_model(gbc)'''"
   ]
  },
  {
   "cell_type": "code",
   "execution_count": null,
   "id": "1c47465c-3ae8-4509-a241-923e640cea90",
   "metadata": {},
   "outputs": [],
   "source": [
    "#create object of GradientBoostingClassifier\n",
    "gbc=GradientBoostingClassifier(random_state=1,n_estimators=97)\n",
    "#call function \n",
    "gbc=create_model(gbc)"
   ]
  },
  {
   "cell_type": "code",
   "execution_count": null,
   "id": "4f2856f1-60aa-45e9-9adc-d7c4b40c8771",
   "metadata": {},
   "outputs": [],
   "source": [
    "#recall score= 69%  and accuracy=97%"
   ]
  },
  {
   "cell_type": "code",
   "execution_count": null,
   "id": "42a36ed3-c6f9-400f-aa0d-cb6b46bc7b02",
   "metadata": {},
   "outputs": [],
   "source": [
    "#3. ExtremeGradientBoosting (XGB): similar as gradient boost\n",
    "#it is 3rd technique of boosting Ensembling technique\n",
    "#XGB is the best version of GradientBoosting"
   ]
  },
  {
   "cell_type": "code",
   "execution_count": null,
   "id": "c4069a0b-250f-4711-ad24-815869199b41",
   "metadata": {},
   "outputs": [],
   "source": [
    "#!pip install xgBoost"
   ]
  },
  {
   "cell_type": "code",
   "execution_count": null,
   "id": "2dc56750-9559-4b8a-9137-b2df08cae377",
   "metadata": {},
   "outputs": [],
   "source": [
    "from xgboost import XGBClassifier"
   ]
  },
  {
   "cell_type": "code",
   "execution_count": null,
   "id": "bd29429c-3453-43e5-8458-2d6ceb276dd4",
   "metadata": {},
   "outputs": [],
   "source": [
    "'''for i in range(10,101):\n",
    "    #create object of import XGBClassifier class\n",
    "    xgb=XGBClassifier(random_state=1,n_estimators=i,reg_alpha=1)     #1 means True\n",
    "    print('n_estimators',i)\n",
    "    #call function\n",
    "    xgb=create_model(xgb)'''"
   ]
  },
  {
   "cell_type": "code",
   "execution_count": null,
   "id": "1559667c-f78e-44e8-9443-c20a4cff25fb",
   "metadata": {},
   "outputs": [],
   "source": [
    "#create object of import XGBClassifier class\n",
    "xgb=XGBClassifier(random_state=1,n_estimators=74,reg_alpha=1)     #1 means True\n",
    "#call function\n",
    "xgb=create_model(xgb)"
   ]
  },
  {
   "cell_type": "code",
   "execution_count": null,
   "id": "2e381cd2-02d0-4eff-811e-6c74d17c0e27",
   "metadata": {},
   "outputs": [],
   "source": [
    "#recall score=70% and accuracy=97"
   ]
  },
  {
   "cell_type": "code",
   "execution_count": null,
   "id": "34b6961d-80d7-4993-8842-9541bcde9f9b",
   "metadata": {},
   "outputs": [],
   "source": [
    "#now svm : support vector machine\n",
    "#use inner class LinearSVC of the outer class svm\n",
    "from sklearn.svm import LinearSVC"
   ]
  },
  {
   "cell_type": "code",
   "execution_count": null,
   "id": "4f192c8b-e662-408a-a32a-2983b3698963",
   "metadata": {},
   "outputs": [],
   "source": [
    "#create object of LinearSVC class\n",
    "svc=LinearSVC(random_state=1)  #bydefault hardmargin\n",
    "#call function \n",
    "svc=create_model(svc)"
   ]
  },
  {
   "cell_type": "code",
   "execution_count": null,
   "id": "d84de9b1-f07e-49a1-b945-5f3a61d2dafa",
   "metadata": {},
   "outputs": [],
   "source": [
    "#less recall score = 61%  and less accuracy=96%, region behind the less score,\n",
    "#outlier found on training time , to add external error time :\n",
    "#soft margine\n",
    "#create the object of linearSVC class and passing the paramiter for external error C\n",
    "#value of C between 0-1\n",
    "svc1=LinearSVC(random_state=1,C=0.99)\n",
    "#call function\n",
    "svc1=create_model(svc1)"
   ]
  },
  {
   "cell_type": "code",
   "execution_count": null,
   "id": "fa7a57c9-ca6d-47f9-858d-71ca30f3cebe",
   "metadata": {},
   "outputs": [],
   "source": [
    "#clearly see, No changes the recall store and Accuracy if add external error during training time \n",
    "#means the data is notlinear \n",
    "#then use Kernal function :\n",
    "#Polynomial kernal function : increse dimension \n",
    "\n",
    "from sklearn.svm import SVC"
   ]
  },
  {
   "cell_type": "code",
   "execution_count": null,
   "id": "36a0b0c3-51fd-460b-a76b-24efb3358a5c",
   "metadata": {},
   "outputs": [],
   "source": [
    "#create object of SVC polynomial class\n",
    "p_svc=SVC(random_state=1,kernel='poly')\n",
    "#call function \n",
    "p_svc=create_model(p_svc)"
   ]
  },
  {
   "cell_type": "code",
   "execution_count": null,
   "id": "031b3390-43a4-420f-848c-2fddef4048fa",
   "metadata": {},
   "outputs": [],
   "source": [
    "#less recall score =60%"
   ]
  },
  {
   "cell_type": "code",
   "execution_count": null,
   "id": "42c55638-51da-44c0-b4c1-9389036ae041",
   "metadata": {},
   "outputs": [],
   "source": [
    "#create object of SVC radial class\n",
    "r_svc=SVC(random_state=1,kernel='rbf')\n",
    "#call function \n",
    "#r_svc=create_model(r_svc)"
   ]
  }
 ],
 "metadata": {
  "kernelspec": {
   "display_name": "Python 3 (ipykernel)",
   "language": "python",
   "name": "python3"
  },
  "language_info": {
   "codemirror_mode": {
    "name": "ipython",
    "version": 3
   },
   "file_extension": ".py",
   "mimetype": "text/x-python",
   "name": "python",
   "nbconvert_exporter": "python",
   "pygments_lexer": "ipython3",
   "version": "3.11.7"
  }
 },
 "nbformat": 4,
 "nbformat_minor": 5
}
